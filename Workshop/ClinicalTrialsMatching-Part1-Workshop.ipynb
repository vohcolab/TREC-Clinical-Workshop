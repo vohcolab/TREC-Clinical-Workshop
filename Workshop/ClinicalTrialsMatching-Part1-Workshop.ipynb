{
 "cells": [
  {
   "cell_type": "markdown",
   "metadata": {},
   "source": [
    "# Welcome!\n",
    "\n",
    "\n",
    "In this session we will tackle the problem of **Clinical Trial Matching**!\n",
    "\n",
    "\n",
    "# Questions\n",
    "\n",
    "## What are Clinical Trials?\n",
    "\n",
    "Clinical trials are research studies performed in people that are aimed at evaluating a medical,surgical or behavioral interventions. They are the primary way that researchers find out if a new treatment, like a new drug or diet or medical device is safe and effective in people.\n",
    "\n",
    "## What is Clinical Trial Matching\n",
    "\n",
    "Clinical trial matching facilitate patient enrollment in clinical trials by matching patients with a set of requirements.\n",
    "\n",
    "----\n",
    "\n",
    "Understood? Let's begin!"
   ]
  },
  {
   "cell_type": "markdown",
   "metadata": {},
   "source": [
    "<img src=\"https://www.memecreator.org/static/images/memes/5045204.jpg\">"
   ]
  },
  {
   "cell_type": "markdown",
   "metadata": {},
   "source": [
    "# Unimportant settings"
   ]
  },
  {
   "cell_type": "code",
   "execution_count": 1,
   "metadata": {},
   "outputs": [],
   "source": [
    "# This setting allows the notebook to show all \n",
    "# outputs instead of only the last one. It's just a QoL thing.\n",
    "from IPython.core.interactiveshell import InteractiveShell\n",
    "InteractiveShell.ast_node_interactivity = \"all\""
   ]
  },
  {
   "cell_type": "markdown",
   "metadata": {},
   "source": [
    "# Import packages\n",
    "\n",
    "This is where we will import our **Python tools** that will help us tackle this problem"
   ]
  },
  {
   "cell_type": "code",
   "execution_count": 2,
   "metadata": {},
   "outputs": [],
   "source": [
    "import pandas as pd # to read and analyse data"
   ]
  },
  {
   "cell_type": "markdown",
   "metadata": {},
   "source": [
    "# Import the data"
   ]
  },
  {
   "cell_type": "code",
   "execution_count": 3,
   "metadata": {},
   "outputs": [],
   "source": [
    "clinical_trials_data_path = 'https://raw.githubusercontent.com/vohcolab/TREC-Clinical-Workshop/main/data/sample_collection.csv'\n",
    "patients_data_path = 'https://raw.githubusercontent.com/vohcolab/TREC-Clinical-Workshop/main/data/patients_sample.csv'\n",
    "\n",
    "\n",
    "clinical_trials_data = pd.read_csv(clinical_trials_data_path,index_col=0)\n",
    "patients_data = pd.read_csv(patients_data_path,index_col=0)"
   ]
  },
  {
   "cell_type": "markdown",
   "metadata": {},
   "source": [
    "## Clinical Trials"
   ]
  },
  {
   "cell_type": "markdown",
   "metadata": {},
   "source": [
    "So now we have our clinical trials below 👀"
   ]
  },
  {
   "cell_type": "code",
   "execution_count": 4,
   "metadata": {},
   "outputs": [],
   "source": [
    "# quick look at the data"
   ]
  },
  {
   "cell_type": "markdown",
   "metadata": {},
   "source": [
    "In order for a patient to be elegible to join this trial, they must satisfy both the **explicit requirements** and the **summary's requirements**!"
   ]
  },
  {
   "cell_type": "code",
   "execution_count": 9,
   "metadata": {
    "scrolled": true
   },
   "outputs": [
    {
     "data": {
      "text/plain": [
       "title      Influence of Amlodipine on the Mortality of Pa...\n",
       "summary    \\n      Patients with end-stage renal failure ...\n",
       "gender                                                  Both\n",
       "min_age                                             18 Years\n",
       "max_age                                             90 Years\n",
       "Name: NCT00124969, dtype: object"
      ]
     },
     "execution_count": 9,
     "metadata": {},
     "output_type": "execute_result"
    }
   ],
   "source": [
    "#get the 10th clinical trial"
   ]
  },
  {
   "cell_type": "code",
   "execution_count": 5,
   "metadata": {},
   "outputs": [],
   "source": [
    "# any more requirements in the summary?"
   ]
  },
  {
   "cell_type": "markdown",
   "metadata": {},
   "source": [
    "We can now see that there are additional requirements from the summary text:\n",
    "- patient's condition must be in an \"end-stage renal failure\"\n",
    "- patient must be currently under \"chronic haemodialysis treatment\""
   ]
  },
  {
   "cell_type": "markdown",
   "metadata": {},
   "source": [
    "## Patients"
   ]
  },
  {
   "cell_type": "code",
   "execution_count": 6,
   "metadata": {},
   "outputs": [],
   "source": [
    "# quick look at the data"
   ]
  },
  {
   "cell_type": "markdown",
   "metadata": {},
   "source": [
    "We have 51 patients. Each patient's condition is described by the column **description**. Let's look at one of them:"
   ]
  },
  {
   "cell_type": "code",
   "execution_count": 7,
   "metadata": {},
   "outputs": [],
   "source": [
    "# check description of 19th patient"
   ]
  },
  {
   "cell_type": "markdown",
   "metadata": {},
   "source": [
    "Patient information is stored in **written notes** by healthcare professionals (eg.: doctors, physicians, nurses)."
   ]
  },
  {
   "cell_type": "markdown",
   "metadata": {},
   "source": [
    "<img src=\"https://memegenerator.net/img/instances/75581336.jpg\" width=\"500\">"
   ]
  },
  {
   "cell_type": "markdown",
   "metadata": {},
   "source": [
    "> Q1: How can we make a computer understand text data such that it enables it to match patients and trials?"
   ]
  }
 ],
 "metadata": {
  "kernelspec": {
   "display_name": "workshop_21.6",
   "language": "python",
   "name": "workshop_21.6"
  },
  "language_info": {
   "codemirror_mode": {
    "name": "ipython",
    "version": 3
   },
   "file_extension": ".py",
   "mimetype": "text/x-python",
   "name": "python",
   "nbconvert_exporter": "python",
   "pygments_lexer": "ipython3",
   "version": "3.9.4"
  },
  "varInspector": {
   "cols": {
    "lenName": 16,
    "lenType": 16,
    "lenVar": 40
   },
   "kernels_config": {
    "python": {
     "delete_cmd_postfix": "",
     "delete_cmd_prefix": "del ",
     "library": "var_list.py",
     "varRefreshCmd": "print(var_dic_list())"
    },
    "r": {
     "delete_cmd_postfix": ") ",
     "delete_cmd_prefix": "rm(",
     "library": "var_list.r",
     "varRefreshCmd": "cat(var_dic_list()) "
    }
   },
   "types_to_exclude": [
    "module",
    "function",
    "builtin_function_or_method",
    "instance",
    "_Feature"
   ],
   "window_display": false
  }
 },
 "nbformat": 4,
 "nbformat_minor": 5
}
