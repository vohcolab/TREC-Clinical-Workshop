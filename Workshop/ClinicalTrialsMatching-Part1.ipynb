{
 "cells": [
  {
   "cell_type": "markdown",
   "metadata": {},
   "source": [
    "# Welcome!\n",
    "\n",
    "\n",
    "In this session we will tackle the problem of **Clinical Trial Matching**!\n",
    "\n",
    "\n",
    "# Questions\n",
    "\n",
    "## What are Clinical Trials?\n",
    "\n",
    "Clinical trials are research studies performed in people that are aimed at evaluating a medical,surgical or behavioral interventions. They are the primary way that researchers find out if a new treatment, like a new drug or diet or medical device is safe and effective in people.\n",
    "\n",
    "## What is Clinical Trial Matching\n",
    "\n",
    "Clinical trial matching facilitate patient enrollment in clinical trials by matching patients with a set of requirements.\n",
    "\n",
    "----\n",
    "\n",
    "Understood? Let's begin!"
   ]
  },
  {
   "cell_type": "markdown",
   "metadata": {},
   "source": [
    "<img src=\"https://www.memecreator.org/static/images/memes/5045204.jpg\">"
   ]
  },
  {
   "cell_type": "markdown",
   "metadata": {},
   "source": [
    "# Unimportant settings"
   ]
  },
  {
   "cell_type": "code",
   "execution_count": 1,
   "metadata": {},
   "outputs": [],
   "source": [
    "# This setting allows the notebook to show all \n",
    "# outputs instead of only the last one. It's just a QoL thing.\n",
    "from IPython.core.interactiveshell import InteractiveShell\n",
    "InteractiveShell.ast_node_interactivity = \"all\""
   ]
  },
  {
   "cell_type": "markdown",
   "metadata": {},
   "source": [
    "# Import packages\n",
    "\n",
    "This is where we will import our **Python tools** that will help us tackle this problem"
   ]
  },
  {
   "cell_type": "code",
   "execution_count": 13,
   "metadata": {},
   "outputs": [],
   "source": [
    "import pandas as pd # to read and analyse data"
   ]
  },
  {
   "cell_type": "markdown",
   "metadata": {},
   "source": [
    "# Import the data"
   ]
  },
  {
   "cell_type": "code",
   "execution_count": 3,
   "metadata": {},
   "outputs": [],
   "source": [
    "clinical_trials_data = pd.read_csv('../data/sample_collection.csv',index_col=0)\n",
    "patients_data = pd.read_csv('../data/patients_sample.csv',index_col=0)"
   ]
  },
  {
   "cell_type": "markdown",
   "metadata": {},
   "source": [
    "## Clinical Trials"
   ]
  },
  {
   "cell_type": "markdown",
   "metadata": {},
   "source": [
    "So now we have our clinical trials below 👀"
   ]
  },
  {
   "cell_type": "code",
   "execution_count": 4,
   "metadata": {},
   "outputs": [
    {
     "data": {
      "text/html": [
       "<div>\n",
       "<style scoped>\n",
       "    .dataframe tbody tr th:only-of-type {\n",
       "        vertical-align: middle;\n",
       "    }\n",
       "\n",
       "    .dataframe tbody tr th {\n",
       "        vertical-align: top;\n",
       "    }\n",
       "\n",
       "    .dataframe thead th {\n",
       "        text-align: right;\n",
       "    }\n",
       "</style>\n",
       "<table border=\"1\" class=\"dataframe\">\n",
       "  <thead>\n",
       "    <tr style=\"text-align: right;\">\n",
       "      <th></th>\n",
       "      <th>title</th>\n",
       "      <th>summary</th>\n",
       "      <th>gender</th>\n",
       "      <th>min_age</th>\n",
       "      <th>max_age</th>\n",
       "    </tr>\n",
       "    <tr>\n",
       "      <th>id</th>\n",
       "      <th></th>\n",
       "      <th></th>\n",
       "      <th></th>\n",
       "      <th></th>\n",
       "      <th></th>\n",
       "    </tr>\n",
       "  </thead>\n",
       "  <tbody>\n",
       "    <tr>\n",
       "      <th>NCT00000408</th>\n",
       "      <td>Low Back Pain Patient Education Evaluation</td>\n",
       "      <td>\\n      Back pain is one of the most common of...</td>\n",
       "      <td>Both</td>\n",
       "      <td>18 Years</td>\n",
       "      <td>NaN</td>\n",
       "    </tr>\n",
       "    <tr>\n",
       "      <th>NCT00000492</th>\n",
       "      <td>Beta-Blocker Heart Attack Trial (BHAT)</td>\n",
       "      <td>\\n      To determine whether the regular admin...</td>\n",
       "      <td>Both</td>\n",
       "      <td>30 Years</td>\n",
       "      <td>69 Years</td>\n",
       "    </tr>\n",
       "    <tr>\n",
       "      <th>NCT00000501</th>\n",
       "      <td>Hypertension Prevention Trial (HPT) Feasibilit...</td>\n",
       "      <td>\\n      To test the feasibility and the effica...</td>\n",
       "      <td>Both</td>\n",
       "      <td>25 Years</td>\n",
       "      <td>49 Years</td>\n",
       "    </tr>\n",
       "    <tr>\n",
       "      <th>NCT00001853</th>\n",
       "      <td>Diabetes and Heart Disease Risk in Blacks</td>\n",
       "      <td>\\n      It is unknown if obesity contributes t...</td>\n",
       "      <td>Both</td>\n",
       "      <td>18 Years</td>\n",
       "      <td>65 Years</td>\n",
       "    </tr>\n",
       "    <tr>\n",
       "      <th>NCT00004727</th>\n",
       "      <td>Antiplatelet Therapy to Prevent Stroke in Afri...</td>\n",
       "      <td>\\n      The African-American Antiplatelet Stro...</td>\n",
       "      <td>Both</td>\n",
       "      <td>29 Years</td>\n",
       "      <td>85 Years</td>\n",
       "    </tr>\n",
       "  </tbody>\n",
       "</table>\n",
       "</div>"
      ],
      "text/plain": [
       "                                                         title  \\\n",
       "id                                                               \n",
       "NCT00000408         Low Back Pain Patient Education Evaluation   \n",
       "NCT00000492             Beta-Blocker Heart Attack Trial (BHAT)   \n",
       "NCT00000501  Hypertension Prevention Trial (HPT) Feasibilit...   \n",
       "NCT00001853          Diabetes and Heart Disease Risk in Blacks   \n",
       "NCT00004727  Antiplatelet Therapy to Prevent Stroke in Afri...   \n",
       "\n",
       "                                                       summary gender  \\\n",
       "id                                                                      \n",
       "NCT00000408  \\n      Back pain is one of the most common of...   Both   \n",
       "NCT00000492  \\n      To determine whether the regular admin...   Both   \n",
       "NCT00000501  \\n      To test the feasibility and the effica...   Both   \n",
       "NCT00001853  \\n      It is unknown if obesity contributes t...   Both   \n",
       "NCT00004727  \\n      The African-American Antiplatelet Stro...   Both   \n",
       "\n",
       "              min_age   max_age  \n",
       "id                               \n",
       "NCT00000408  18 Years       NaN  \n",
       "NCT00000492  30 Years  69 Years  \n",
       "NCT00000501  25 Years  49 Years  \n",
       "NCT00001853  18 Years  65 Years  \n",
       "NCT00004727  29 Years  85 Years  "
      ]
     },
     "execution_count": 4,
     "metadata": {},
     "output_type": "execute_result"
    },
    {
     "data": {
      "text/plain": [
       "(3170, 5)"
      ]
     },
     "execution_count": 4,
     "metadata": {},
     "output_type": "execute_result"
    }
   ],
   "source": [
    "clinical_trials_data.head()\n",
    "clinical_trials_data.shape"
   ]
  },
  {
   "cell_type": "markdown",
   "metadata": {},
   "source": [
    "It seems we have 3170 clinical trials here!\n",
    "\n",
    "Each clinical trial is comprised by:\n",
    "- an **identifier**\n",
    "- a **title**\n",
    "- a **summary**\n",
    "- and some explicit requirements:\n",
    "    - **gender**\n",
    "    - **min_age**\n",
    "    - **max_age**"
   ]
  },
  {
   "cell_type": "markdown",
   "metadata": {},
   "source": [
    "In order for a patient to be elegible to join this trial, they must satisfy both the **explicit requirements** and the **summary's requirements**!"
   ]
  },
  {
   "cell_type": "code",
   "execution_count": 7,
   "metadata": {
    "scrolled": true
   },
   "outputs": [
    {
     "data": {
      "text/plain": [
       "title      Influence of Amlodipine on the Mortality of Pa...\n",
       "summary    \\n      Patients with end-stage renal failure ...\n",
       "gender                                                  Both\n",
       "min_age                                             18 Years\n",
       "max_age                                             90 Years\n",
       "Name: NCT00124969, dtype: object"
      ]
     },
     "execution_count": 7,
     "metadata": {},
     "output_type": "execute_result"
    }
   ],
   "source": [
    "clinical_trials_data.iloc[10]"
   ]
  },
  {
   "cell_type": "markdown",
   "metadata": {},
   "source": [
    "The explicit requirements seem pretty easy to understand. What additional information does the **summary** contain?"
   ]
  },
  {
   "cell_type": "code",
   "execution_count": 8,
   "metadata": {},
   "outputs": [
    {
     "name": "stdout",
     "output_type": "stream",
     "text": [
      "\n",
      "      Patients with end-stage renal failure have a markedly higher mortality because of\n",
      "      cardiovascular events in comparison with the normal population. Disorders in the calcium\n",
      "      metabolism, such as calcification of the vessel walls, occur very frequently. There are\n",
      "      indications that calcium channel blockers are capable of lowering the cardiovascular\n",
      "      mortality in patients with end-stage renal failure.\n",
      "\n",
      "      It is intended to carry out a prospective, randomized, double-blind, placebo-controlled,\n",
      "      multicenter study in order to find out if the calcium channel blocker amlodipine is able to\n",
      "      reduce the mortality of patients with end-stage renal failure.\n",
      "\n",
      "      The investigation will be carried out after suitable explanation and written informed\n",
      "      consent in 356 patients aged between 18 and 90 years with end-stage renal failure and\n",
      "      chronic haemodialysis treatment. The patients will be randomized to either treatment with\n",
      "      amlodipine 10 mg/day or placebo. The occurrence of events will be documented and evaluated\n",
      "      prospectively over a period of 30 months.\n",
      "    \n"
     ]
    }
   ],
   "source": [
    "print(clinical_trials_data.iloc[10].summary)"
   ]
  },
  {
   "cell_type": "markdown",
   "metadata": {},
   "source": [
    "We can now see that there are additional requirements from the summary text:\n",
    "- patient's condition must be in an \"end-stage renal failure\"\n",
    "- patient must be currently under \"chronic haemodialysis treatment\""
   ]
  },
  {
   "cell_type": "markdown",
   "metadata": {},
   "source": [
    "## Patients"
   ]
  },
  {
   "cell_type": "code",
   "execution_count": 9,
   "metadata": {},
   "outputs": [
    {
     "data": {
      "text/html": [
       "<div>\n",
       "<style scoped>\n",
       "    .dataframe tbody tr th:only-of-type {\n",
       "        vertical-align: middle;\n",
       "    }\n",
       "\n",
       "    .dataframe tbody tr th {\n",
       "        vertical-align: top;\n",
       "    }\n",
       "\n",
       "    .dataframe thead th {\n",
       "        text-align: right;\n",
       "    }\n",
       "</style>\n",
       "<table border=\"1\" class=\"dataframe\">\n",
       "  <thead>\n",
       "    <tr style=\"text-align: right;\">\n",
       "      <th></th>\n",
       "      <th>description</th>\n",
       "    </tr>\n",
       "    <tr>\n",
       "      <th>patient_id</th>\n",
       "      <th></th>\n",
       "    </tr>\n",
       "  </thead>\n",
       "  <tbody>\n",
       "    <tr>\n",
       "      <th>20141</th>\n",
       "      <td>A 58-year-old African-American woman presents ...</td>\n",
       "    </tr>\n",
       "    <tr>\n",
       "      <th>201410</th>\n",
       "      <td>A physician is called to see a 67-year-old wom...</td>\n",
       "    </tr>\n",
       "    <tr>\n",
       "      <th>201411</th>\n",
       "      <td>A 40-year-old woman with no past medical histo...</td>\n",
       "    </tr>\n",
       "  </tbody>\n",
       "</table>\n",
       "</div>"
      ],
      "text/plain": [
       "                                                  description\n",
       "patient_id                                                   \n",
       "20141       A 58-year-old African-American woman presents ...\n",
       "201410      A physician is called to see a 67-year-old wom...\n",
       "201411      A 40-year-old woman with no past medical histo..."
      ]
     },
     "execution_count": 9,
     "metadata": {},
     "output_type": "execute_result"
    },
    {
     "data": {
      "text/plain": [
       "(51, 1)"
      ]
     },
     "execution_count": 9,
     "metadata": {},
     "output_type": "execute_result"
    }
   ],
   "source": [
    "patients_data.head(3)\n",
    "patients_data.shape"
   ]
  },
  {
   "cell_type": "markdown",
   "metadata": {},
   "source": [
    "We have 51 patients. Each patient's condition is described by the column **description**. Let's look at one of them:"
   ]
  },
  {
   "cell_type": "code",
   "execution_count": 10,
   "metadata": {},
   "outputs": [
    {
     "name": "stdout",
     "output_type": "stream",
     "text": [
      "A 72-year-old man complains of increasing calf pain when walking uphill. The symptoms have gradually increased over the past 3 months. The patient had an uncomplicated myocardial infarction 2 years earlier and a transient ischemic attack 6 months ago. Over the past month, his blood pressure has worsened despite previous control with diltiazem, hydrochlorothiazide, and propranolol. His is currently taking isosorbide dinitrate, hydrochlorothiazide, and aspirin. On physical examination, his blood pressure is 151/91 mm Hg, and his pulse is 67/min. There is a right carotid bruit. His lower extremities are slightly cool to the touch and have diminished pulses at the dorsalis pedis.\n",
      "        \n"
     ]
    }
   ],
   "source": [
    "print(patients_data.iloc[19].description)"
   ]
  },
  {
   "cell_type": "markdown",
   "metadata": {},
   "source": [
    "Patient information is stored in **written notes** by healthcare professionals (eg.: doctors, physicians, nurses)."
   ]
  },
  {
   "cell_type": "markdown",
   "metadata": {},
   "source": [
    "<img src=\"https://memegenerator.net/img/instances/75581336.jpg\" width=\"500\">"
   ]
  },
  {
   "cell_type": "markdown",
   "metadata": {},
   "source": [
    "> Q1: How can we make a computer understand text data such that it enables it to match patients and trials?"
   ]
  }
 ],
 "metadata": {
  "kernelspec": {
   "display_name": "workshop_21.6",
   "language": "python",
   "name": "workshop_21.6"
  },
  "language_info": {
   "codemirror_mode": {
    "name": "ipython",
    "version": 3
   },
   "file_extension": ".py",
   "mimetype": "text/x-python",
   "name": "python",
   "nbconvert_exporter": "python",
   "pygments_lexer": "ipython3",
   "version": "3.9.4"
  },
  "varInspector": {
   "cols": {
    "lenName": 16,
    "lenType": 16,
    "lenVar": 40
   },
   "kernels_config": {
    "python": {
     "delete_cmd_postfix": "",
     "delete_cmd_prefix": "del ",
     "library": "var_list.py",
     "varRefreshCmd": "print(var_dic_list())"
    },
    "r": {
     "delete_cmd_postfix": ") ",
     "delete_cmd_prefix": "rm(",
     "library": "var_list.r",
     "varRefreshCmd": "cat(var_dic_list()) "
    }
   },
   "types_to_exclude": [
    "module",
    "function",
    "builtin_function_or_method",
    "instance",
    "_Feature"
   ],
   "window_display": false
  }
 },
 "nbformat": 4,
 "nbformat_minor": 5
}
