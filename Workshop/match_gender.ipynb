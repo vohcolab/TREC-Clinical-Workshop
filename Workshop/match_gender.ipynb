{
 "cells": [
  {
   "cell_type": "markdown",
   "id": "40f99a8f",
   "metadata": {},
   "source": [
    "# Welcome\n",
    "\n",
    "The process of manually searching for clinical trials is very resource intensive and should be automated by a computer.\n",
    "\n",
    "## Problem\n",
    "It is very costly (human resources) to manually check each patient description and assign them to a clinical trial\n",
    "\n",
    "## Objective\n",
    "\n",
    "Create an algorithm that automatically assigns possible candidates (patients) to clinical trials"
   ]
  },
  {
   "cell_type": "code",
   "execution_count": 1,
   "id": "e7e80697",
   "metadata": {},
   "outputs": [],
   "source": [
    "import pandas as pd"
   ]
  },
  {
   "cell_type": "markdown",
   "id": "33a6f9f7",
   "metadata": {},
   "source": [
    "# Data"
   ]
  },
  {
   "cell_type": "code",
   "execution_count": 2,
   "id": "f5c6cbd1",
   "metadata": {},
   "outputs": [
    {
     "name": "stdout",
     "output_type": "stream",
     "text": [
      "patients_sample.csv  qrels_sample.csv  sample_collection.csv\r\n"
     ]
    }
   ],
   "source": [
    "!ls ../data"
   ]
  },
  {
   "cell_type": "code",
   "execution_count": 3,
   "id": "539f739e",
   "metadata": {},
   "outputs": [],
   "source": [
    "clinical_trials = pd.read_csv('../data/sample_collection.csv')\n",
    "patients = pd.read_csv('../data/patients_sample.csv')\n",
    "relevance = pd.read_csv('../data/qrels_sample.csv')"
   ]
  },
  {
   "cell_type": "code",
   "execution_count": 4,
   "id": "299be522",
   "metadata": {},
   "outputs": [
    {
     "data": {
      "text/html": [
       "<div>\n",
       "<style scoped>\n",
       "    .dataframe tbody tr th:only-of-type {\n",
       "        vertical-align: middle;\n",
       "    }\n",
       "\n",
       "    .dataframe tbody tr th {\n",
       "        vertical-align: top;\n",
       "    }\n",
       "\n",
       "    .dataframe thead th {\n",
       "        text-align: right;\n",
       "    }\n",
       "</style>\n",
       "<table border=\"1\" class=\"dataframe\">\n",
       "  <thead>\n",
       "    <tr style=\"text-align: right;\">\n",
       "      <th></th>\n",
       "      <th>id</th>\n",
       "      <th>title</th>\n",
       "      <th>summary</th>\n",
       "      <th>gender</th>\n",
       "      <th>min_age</th>\n",
       "      <th>max_age</th>\n",
       "    </tr>\n",
       "  </thead>\n",
       "  <tbody>\n",
       "    <tr>\n",
       "      <th>0</th>\n",
       "      <td>NCT00000408</td>\n",
       "      <td>Low Back Pain Patient Education Evaluation</td>\n",
       "      <td>\\n      Back pain is one of the most common of...</td>\n",
       "      <td>Both</td>\n",
       "      <td>18 Years</td>\n",
       "      <td>NaN</td>\n",
       "    </tr>\n",
       "    <tr>\n",
       "      <th>1</th>\n",
       "      <td>NCT00000492</td>\n",
       "      <td>Beta-Blocker Heart Attack Trial (BHAT)</td>\n",
       "      <td>\\n      To determine whether the regular admin...</td>\n",
       "      <td>Both</td>\n",
       "      <td>30 Years</td>\n",
       "      <td>69 Years</td>\n",
       "    </tr>\n",
       "  </tbody>\n",
       "</table>\n",
       "</div>"
      ],
      "text/plain": [
       "            id                                       title  \\\n",
       "0  NCT00000408  Low Back Pain Patient Education Evaluation   \n",
       "1  NCT00000492      Beta-Blocker Heart Attack Trial (BHAT)   \n",
       "\n",
       "                                             summary gender   min_age  \\\n",
       "0  \\n      Back pain is one of the most common of...   Both  18 Years   \n",
       "1  \\n      To determine whether the regular admin...   Both  30 Years   \n",
       "\n",
       "    max_age  \n",
       "0       NaN  \n",
       "1  69 Years  "
      ]
     },
     "execution_count": 4,
     "metadata": {},
     "output_type": "execute_result"
    },
    {
     "data": {
      "text/plain": [
       "(3170, 6)"
      ]
     },
     "execution_count": 4,
     "metadata": {},
     "output_type": "execute_result"
    },
    {
     "data": {
      "text/html": [
       "<div>\n",
       "<style scoped>\n",
       "    .dataframe tbody tr th:only-of-type {\n",
       "        vertical-align: middle;\n",
       "    }\n",
       "\n",
       "    .dataframe tbody tr th {\n",
       "        vertical-align: top;\n",
       "    }\n",
       "\n",
       "    .dataframe thead th {\n",
       "        text-align: right;\n",
       "    }\n",
       "</style>\n",
       "<table border=\"1\" class=\"dataframe\">\n",
       "  <thead>\n",
       "    <tr style=\"text-align: right;\">\n",
       "      <th></th>\n",
       "      <th>patient_id</th>\n",
       "      <th>description</th>\n",
       "    </tr>\n",
       "  </thead>\n",
       "  <tbody>\n",
       "    <tr>\n",
       "      <th>0</th>\n",
       "      <td>20141</td>\n",
       "      <td>A 58-year-old African-American woman presents ...</td>\n",
       "    </tr>\n",
       "    <tr>\n",
       "      <th>1</th>\n",
       "      <td>201410</td>\n",
       "      <td>A physician is called to see a 67-year-old wom...</td>\n",
       "    </tr>\n",
       "  </tbody>\n",
       "</table>\n",
       "</div>"
      ],
      "text/plain": [
       "   patient_id                                        description\n",
       "0       20141  A 58-year-old African-American woman presents ...\n",
       "1      201410  A physician is called to see a 67-year-old wom..."
      ]
     },
     "execution_count": 4,
     "metadata": {},
     "output_type": "execute_result"
    },
    {
     "data": {
      "text/plain": [
       "(51, 2)"
      ]
     },
     "execution_count": 4,
     "metadata": {},
     "output_type": "execute_result"
    }
   ],
   "source": [
    "clinical_trials.head(2)\n",
    "clinical_trials.shape\n",
    "\n",
    "patients.head(2)\n",
    "patients.shape"
   ]
  },
  {
   "cell_type": "markdown",
   "id": "3025c9e8",
   "metadata": {},
   "source": [
    "# Let's go easy\n",
    "\n",
    "\n",
    "Main objective: Match based on **gender** requirements"
   ]
  },
  {
   "cell_type": "markdown",
   "id": "402ff50f",
   "metadata": {},
   "source": [
    "## Part 1: Divide and conquer\n",
    "\n",
    "We have a big objective but in order to solve it let's divide it into smaller objectives that are easier to complete.\n",
    "\n",
    "<br>\n",
    "\n",
    "**Sub-objectives**:\n",
    "- **A**: Detect gender from patient description\n",
    "- **B**: Go through each trial and assign patients based on their gender"
   ]
  },
  {
   "cell_type": "code",
   "execution_count": 5,
   "id": "5272733c",
   "metadata": {},
   "outputs": [],
   "source": [
    "def naive_man_detector(text):\n",
    "\n",
    "    possible_male_references = ['man', 'male', 'm']\n",
    "    \n",
    "    # convert everything to lower case\n",
    "    text = text.lower() # possible exercise!!\n",
    "    \n",
    "    # usually gender is in the first sentence\n",
    "    # so let's pick the first ~100 characters to find the gender\n",
    "    first_part = text[:100]\n",
    "    \n",
    "    words = first_part.split(\" \")\n",
    "    \n",
    "    for word in words:\n",
    "        if word in possible_male_references:\n",
    "            return True\n",
    "    return False"
   ]
  },
  {
   "cell_type": "markdown",
   "id": "18c87d81",
   "metadata": {},
   "source": [
    "^^aproveitar estes hard rules para explicar a vantagem de aplicar ML nisto"
   ]
  },
  {
   "cell_type": "code",
   "execution_count": 6,
   "id": "c2880bfa",
   "metadata": {},
   "outputs": [],
   "source": [
    "patients['is_male'] = patients.description.apply(naive_man_detector)"
   ]
  },
  {
   "cell_type": "markdown",
   "id": "e42754fb",
   "metadata": {},
   "source": [
    "Now that we can classify each patient in gender, lets assign patients to clinical trials"
   ]
  },
  {
   "cell_type": "code",
   "execution_count": 7,
   "id": "ac4770db",
   "metadata": {},
   "outputs": [
    {
     "name": "stdout",
     "output_type": "stream",
     "text": [
      "Patient 20141 is believed to be a female and was matched to 317 trials!\n",
      "Patient 201410 is believed to be a female and was matched to 317 trials!\n",
      "Patient 201411 is believed to be a female and was matched to 317 trials!\n",
      "Patient 201412 is believed to be a female and was matched to 317 trials!\n",
      "Patient 201413 is believed to be a female and was matched to 317 trials!\n",
      "Patient 201414 is believed to be a male and was matched to 70 trials!\n",
      "Patient 201415 is believed to be a female and was matched to 317 trials!\n",
      "Patient 201416 is believed to be a female and was matched to 317 trials!\n",
      "Patient 201417 is believed to be a male and was matched to 70 trials!\n",
      "Patient 201418 is believed to be a male and was matched to 70 trials!\n",
      "Patient 20142 is believed to be a male and was matched to 70 trials!\n",
      "Patient 201421 is believed to be a female and was matched to 317 trials!\n",
      "Patient 201422 is believed to be a female and was matched to 317 trials!\n",
      "Patient 201423 is believed to be a male and was matched to 70 trials!\n",
      "Patient 201424 is believed to be a male and was matched to 70 trials!\n",
      "Patient 201426 is believed to be a female and was matched to 317 trials!\n",
      "Patient 201427 is believed to be a female and was matched to 317 trials!\n",
      "Patient 201429 is believed to be a female and was matched to 317 trials!\n",
      "Patient 20143 is believed to be a female and was matched to 317 trials!\n",
      "Patient 201430 is believed to be a male and was matched to 70 trials!\n",
      "Patient 20144 is believed to be a female and was matched to 317 trials!\n",
      "Patient 20145 is believed to be a female and was matched to 317 trials!\n",
      "Patient 20146 is believed to be a female and was matched to 317 trials!\n",
      "Patient 20147 is believed to be a female and was matched to 317 trials!\n",
      "Patient 20148 is believed to be a male and was matched to 70 trials!\n",
      "Patient 20149 is believed to be a female and was matched to 317 trials!\n",
      "Patient 20151 is believed to be a male and was matched to 70 trials!\n",
      "Patient 201510 is believed to be a female and was matched to 317 trials!\n",
      "Patient 201511 is believed to be a female and was matched to 317 trials!\n",
      "Patient 201512 is believed to be a male and was matched to 70 trials!\n",
      "Patient 201513 is believed to be a female and was matched to 317 trials!\n",
      "Patient 201516 is believed to be a female and was matched to 317 trials!\n",
      "Patient 201517 is believed to be a female and was matched to 317 trials!\n",
      "Patient 201518 is believed to be a male and was matched to 70 trials!\n",
      "Patient 20152 is believed to be a male and was matched to 70 trials!\n",
      "Patient 201520 is believed to be a male and was matched to 70 trials!\n",
      "Patient 201521 is believed to be a male and was matched to 70 trials!\n",
      "Patient 201523 is believed to be a male and was matched to 70 trials!\n",
      "Patient 201524 is believed to be a male and was matched to 70 trials!\n",
      "Patient 201525 is believed to be a female and was matched to 317 trials!\n",
      "Patient 201527 is believed to be a female and was matched to 317 trials!\n",
      "Patient 201528 is believed to be a female and was matched to 317 trials!\n",
      "Patient 201529 is believed to be a female and was matched to 317 trials!\n",
      "Patient 20153 is believed to be a male and was matched to 70 trials!\n",
      "Patient 201530 is believed to be a male and was matched to 70 trials!\n",
      "Patient 20154 is believed to be a female and was matched to 317 trials!\n",
      "Patient 20155 is believed to be a female and was matched to 317 trials!\n",
      "Patient 20156 is believed to be a female and was matched to 317 trials!\n",
      "Patient 20157 is believed to be a female and was matched to 317 trials!\n",
      "Patient 20158 is believed to be a female and was matched to 317 trials!\n",
      "Patient 20159 is believed to be a female and was matched to 317 trials!\n"
     ]
    }
   ],
   "source": [
    "patient2trials = {}\n",
    "\n",
    "for patient in patients.itertuples(index=False):\n",
    "\n",
    "    patient_id = patient.patient_id\n",
    "    patient_description = patient.description\n",
    "    gender = 'male' if patient.is_male == True else 'female'\n",
    "    \n",
    "    patient2trials[patient_id] = []\n",
    "    for trial in clinical_trials.itertuples(index=False):\n",
    "        if patient.is_male == True and trial.gender in ['All', 'Male']:\n",
    "            patient2trials[patient_id].append(trial)\n",
    "        elif patient.is_male == False and trial.gender in ['All','Female']:\n",
    "            patient2trials[patient_id].append(trial)\n",
    "            \n",
    "    print(f'Patient {patient_id} is believed to be a {gender} and was matched to {len(patient2trials[patient_id])} trials!')"
   ]
  }
 ],
 "metadata": {
  "jupytext": {
   "formats": "ipynb,md"
  },
  "kernelspec": {
   "display_name": "Python 3",
   "language": "python",
   "name": "python3"
  },
  "language_info": {
   "codemirror_mode": {
    "name": "ipython",
    "version": 3
   },
   "file_extension": ".py",
   "mimetype": "text/x-python",
   "name": "python",
   "nbconvert_exporter": "python",
   "pygments_lexer": "ipython3",
   "version": "3.9.4"
  }
 },
 "nbformat": 4,
 "nbformat_minor": 5
}
