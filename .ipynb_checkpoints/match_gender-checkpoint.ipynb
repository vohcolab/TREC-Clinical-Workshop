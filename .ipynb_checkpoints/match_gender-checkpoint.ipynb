{
 "cells": [
  {
   "cell_type": "markdown",
   "id": "40f99a8f",
   "metadata": {},
   "source": [
    "# Welcome\n",
    "\n",
    "The process of manually searching for clinical trials is very resource intensive and should be automated by a computer.\n",
    "\n",
    "## Problem\n",
    "It is very costly (human resources) to manually check each patient description and assign them to a clinical trial\n",
    "\n",
    "## Objective\n",
    "\n",
    "Create an algorithm that automatically assigns possible candidates (patients) to clinical trials"
   ]
  },
  {
   "cell_type": "code",
   "execution_count": 1,
   "id": "e7e80697",
   "metadata": {},
   "outputs": [],
   "source": [
    "import pandas as pd"
   ]
  },
  {
   "cell_type": "markdown",
   "id": "33a6f9f7",
   "metadata": {},
   "source": [
    "# Data"
   ]
  },
  {
   "cell_type": "code",
   "execution_count": 2,
   "id": "539f739e",
   "metadata": {},
   "outputs": [],
   "source": [
    "clinical_trials = pd.read_csv('data/5ksample.csv')\n",
    "patients = pd.read_csv('patients_15.csv')"
   ]
  },
  {
   "cell_type": "code",
   "execution_count": 5,
   "id": "299be522",
   "metadata": {},
   "outputs": [
    {
     "data": {
      "text/html": [
       "<div>\n",
       "<style scoped>\n",
       "    .dataframe tbody tr th:only-of-type {\n",
       "        vertical-align: middle;\n",
       "    }\n",
       "\n",
       "    .dataframe tbody tr th {\n",
       "        vertical-align: top;\n",
       "    }\n",
       "\n",
       "    .dataframe thead th {\n",
       "        text-align: right;\n",
       "    }\n",
       "</style>\n",
       "<table border=\"1\" class=\"dataframe\">\n",
       "  <thead>\n",
       "    <tr style=\"text-align: right;\">\n",
       "      <th></th>\n",
       "      <th>id</th>\n",
       "      <th>title</th>\n",
       "      <th>summary</th>\n",
       "      <th>gender</th>\n",
       "      <th>min_age</th>\n",
       "      <th>max_age</th>\n",
       "    </tr>\n",
       "  </thead>\n",
       "  <tbody>\n",
       "    <tr>\n",
       "      <th>0</th>\n",
       "      <td>NCT01000168</td>\n",
       "      <td>Treadmill Therapy and Brain Injuries</td>\n",
       "      <td>\\n      Introduction.\\r\\n\\r\\n        -  There ...</td>\n",
       "      <td>All</td>\n",
       "      <td>18 Years</td>\n",
       "      <td>NaN</td>\n",
       "    </tr>\n",
       "    <tr>\n",
       "      <th>1</th>\n",
       "      <td>NCT01000194</td>\n",
       "      <td>Acute Fatty Acid Intervention Study (AFAST)</td>\n",
       "      <td>\\n      The main objective of this study is to...</td>\n",
       "      <td>Male</td>\n",
       "      <td>18 Years</td>\n",
       "      <td>30 Years</td>\n",
       "    </tr>\n",
       "  </tbody>\n",
       "</table>\n",
       "</div>"
      ],
      "text/plain": [
       "            id                                        title  \\\n",
       "0  NCT01000168         Treadmill Therapy and Brain Injuries   \n",
       "1  NCT01000194  Acute Fatty Acid Intervention Study (AFAST)   \n",
       "\n",
       "                                             summary gender   min_age  \\\n",
       "0  \\n      Introduction.\\r\\n\\r\\n        -  There ...    All  18 Years   \n",
       "1  \\n      The main objective of this study is to...   Male  18 Years   \n",
       "\n",
       "    max_age  \n",
       "0       NaN  \n",
       "1  30 Years  "
      ]
     },
     "execution_count": 5,
     "metadata": {},
     "output_type": "execute_result"
    },
    {
     "data": {
      "text/plain": [
       "(5000, 6)"
      ]
     },
     "execution_count": 5,
     "metadata": {},
     "output_type": "execute_result"
    },
    {
     "data": {
      "text/html": [
       "<div>\n",
       "<style scoped>\n",
       "    .dataframe tbody tr th:only-of-type {\n",
       "        vertical-align: middle;\n",
       "    }\n",
       "\n",
       "    .dataframe tbody tr th {\n",
       "        vertical-align: top;\n",
       "    }\n",
       "\n",
       "    .dataframe thead th {\n",
       "        text-align: right;\n",
       "    }\n",
       "</style>\n",
       "<table border=\"1\" class=\"dataframe\">\n",
       "  <thead>\n",
       "    <tr style=\"text-align: right;\">\n",
       "      <th></th>\n",
       "      <th>patient_id</th>\n",
       "      <th>text</th>\n",
       "    </tr>\n",
       "  </thead>\n",
       "  <tbody>\n",
       "    <tr>\n",
       "      <th>0</th>\n",
       "      <td>1</td>\n",
       "      <td>\\nPatient is a 45-year-old man with a history ...</td>\n",
       "    </tr>\n",
       "    <tr>\n",
       "      <th>1</th>\n",
       "      <td>2</td>\n",
       "      <td>\\n48 M with a h/o HTN hyperlipidemia, bicuspid...</td>\n",
       "    </tr>\n",
       "  </tbody>\n",
       "</table>\n",
       "</div>"
      ],
      "text/plain": [
       "   patient_id                                               text\n",
       "0           1  \\nPatient is a 45-year-old man with a history ...\n",
       "1           2  \\n48 M with a h/o HTN hyperlipidemia, bicuspid..."
      ]
     },
     "execution_count": 5,
     "metadata": {},
     "output_type": "execute_result"
    },
    {
     "data": {
      "text/plain": [
       "(15, 2)"
      ]
     },
     "execution_count": 5,
     "metadata": {},
     "output_type": "execute_result"
    }
   ],
   "source": [
    "clinical_trials.head(2)\n",
    "clinical_trials.shape\n",
    "\n",
    "patients.head(2)\n",
    "patients.shape"
   ]
  },
  {
   "cell_type": "markdown",
   "id": "3025c9e8",
   "metadata": {},
   "source": [
    "# Let's go easy\n",
    "\n",
    "\n",
    "Main objective: Match based on **gender** requirements"
   ]
  },
  {
   "cell_type": "markdown",
   "id": "402ff50f",
   "metadata": {},
   "source": [
    "## Part 1: Divide and conquer\n",
    "\n",
    "We have a big objective but in order to solve it let's divide it into smaller objectives that are easier to complete.\n",
    "\n",
    "<br>\n",
    "\n",
    "**Sub-objectives**:\n",
    "- **A**: Detect gender from patient description\n",
    "- **B**: Go through each trial and assign patients based on their gender"
   ]
  },
  {
   "cell_type": "code",
   "execution_count": 79,
   "id": "5272733c",
   "metadata": {},
   "outputs": [],
   "source": [
    "def naive_man_detector(text):\n",
    "\n",
    "    possible_male_references = ['man', 'male', 'm']\n",
    "    \n",
    "    # convert everything to lower case\n",
    "    text = text.lower() # possible exercise!!\n",
    "    \n",
    "    # usually gender is in the first sentence\n",
    "    # so let's pick the first ~100 characters to find the gender\n",
    "    first_part = text[:100]\n",
    "    \n",
    "    words = first_part.split(\" \")\n",
    "    \n",
    "    for word in words:\n",
    "        if word in possible_male_references:\n",
    "            return True\n",
    "    return False"
   ]
  },
  {
   "cell_type": "code",
   "execution_count": 80,
   "id": "c2880bfa",
   "metadata": {},
   "outputs": [],
   "source": [
    "patients['is_male'] = patients.text.apply(naive_man_detector)"
   ]
  },
  {
   "cell_type": "markdown",
   "id": "e42754fb",
   "metadata": {},
   "source": [
    "Now that we can classify each patient in gender, lets assign patients to clinical trials"
   ]
  },
  {
   "cell_type": "code",
   "execution_count": 91,
   "id": "0647a84e",
   "metadata": {},
   "outputs": [
    {
     "data": {
      "text/plain": [
       "Pandas(patient_id=1, text='\\nPatient is a 45-year-old man with a history of anaplastic astrocytoma of the spine complicated by severe lower extremity weakness and urinary retention s/p Foley catheter, high-dose steroids, hypertension, and chronic pain. The tumor is located in the T-L spine, unresectable anaplastic astrocytoma s/p radiation. Complicated by progressive lower extremity weakness and urinary retention. Patient initially presented with RLE weakness where his right knee gave out with difficulty walking and right anterior thigh numbness. MRI showed a spinal cord conus mass which was biopsied and found to be anaplastic astrocytoma. Therapy included field radiation t10-l1 followed by 11 cycles of temozolomide 7 days on and 7 days off. This was followed by CPT-11 Weekly x4 with Avastin Q2 weeks/ 2 weeks rest and repeat cycle. \\n', is_male=True)"
      ]
     },
     "execution_count": 91,
     "metadata": {},
     "output_type": "execute_result"
    }
   ],
   "source": [
    "for patient in patients.itertuples(index=False):\n",
    "    patient\n",
    "    break"
   ]
  },
  {
   "cell_type": "code",
   "execution_count": 97,
   "id": "ac4770db",
   "metadata": {},
   "outputs": [
    {
     "name": "stdout",
     "output_type": "stream",
     "text": [
      "Patient 1 is believed to be a male and was attributed to 4543 trials!\n",
      "Patient 2 is believed to be a male and was attributed to 4543 trials!\n",
      "Patient 3 is believed to be a female and was attributed to 4772 trials!\n",
      "Patient 4 is believed to be a female and was attributed to 4772 trials!\n",
      "Patient 5 is believed to be a female and was attributed to 4772 trials!\n",
      "Patient 6 is believed to be a female and was attributed to 4772 trials!\n",
      "Patient 7 is believed to be a male and was attributed to 4543 trials!\n",
      "Patient 8 is believed to be a female and was attributed to 4772 trials!\n",
      "Patient 9 is believed to be a male and was attributed to 4543 trials!\n",
      "Patient 10 is believed to be a female and was attributed to 4772 trials!\n",
      "Patient 11 is believed to be a male and was attributed to 4543 trials!\n",
      "Patient 12 is believed to be a female and was attributed to 4772 trials!\n",
      "Patient 13 is believed to be a male and was attributed to 4543 trials!\n",
      "Patient 14 is believed to be a female and was attributed to 4772 trials!\n",
      "Patient 15 is believed to be a female and was attributed to 4772 trials!\n"
     ]
    }
   ],
   "source": [
    "patient2trials = {}\n",
    "\n",
    "for patient in patients.itertuples(index=False):\n",
    "\n",
    "    patient_id = patient.patient_id\n",
    "    patient_description = patient.text\n",
    "    gender = 'male' if patient.is_male == True else 'female'\n",
    "    \n",
    "    patient2trials[patient_id] = []\n",
    "    for trial in clinical_trials.itertuples(index=False):\n",
    "        if patient.is_male == True and trial.gender in ['All', 'Male']:\n",
    "            patient2trials[patient_id].append(trial)\n",
    "        elif patient.is_male == False and trial.gender in ['All','Female']:\n",
    "            patient2trials[patient_id].append(trial)\n",
    "            \n",
    "    print(f'Patient {patient_id} is believed to be a {gender} and was attributed to {len(patient2trials[patient_id])} trials!')"
   ]
  }
 ],
 "metadata": {
  "jupytext": {
   "formats": "ipynb,md"
  },
  "kernelspec": {
   "display_name": "Python 3",
   "language": "python",
   "name": "python3"
  },
  "language_info": {
   "codemirror_mode": {
    "name": "ipython",
    "version": 3
   },
   "file_extension": ".py",
   "mimetype": "text/x-python",
   "name": "python",
   "nbconvert_exporter": "python",
   "pygments_lexer": "ipython3",
   "version": "3.9.4"
  }
 },
 "nbformat": 4,
 "nbformat_minor": 5
}
