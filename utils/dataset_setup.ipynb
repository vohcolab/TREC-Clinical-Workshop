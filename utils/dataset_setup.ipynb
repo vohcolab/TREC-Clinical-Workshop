{
 "cells": [
  {
   "cell_type": "markdown",
   "id": "fed923b3",
   "metadata": {},
   "source": [
    "# Meta\n",
    "\n",
    "This notebook generates the data required for the workshop using the original dataset from [csiro](https://dl.acm.org/doi/abs/10.1145/2911451.2914672). All data is stored under `data/`\n"
   ]
  },
  {
   "cell_type": "code",
   "execution_count": 1,
   "id": "a1d0ad64",
   "metadata": {},
   "outputs": [],
   "source": [
    "import os\n",
    "import xml.etree.ElementTree as ET\n",
    "import pandas as pd\n",
    "from trectools import TrecQrel\n",
    "from trectools.trec_topics import TrecTopics\n",
    "from bs4 import BeautifulSoup\n",
    "import codecs\n",
    "import xml"
   ]
  },
  {
   "cell_type": "markdown",
   "id": "83153d7c",
   "metadata": {},
   "source": [
    "# Get Patients"
   ]
  },
  {
   "cell_type": "code",
   "execution_count": 2,
   "id": "4b2d2b09",
   "metadata": {},
   "outputs": [],
   "source": [
    "topics_path = '/nas/Datasets/csiro_ct/topics-2014_2015-description.topics'\n",
    "topicsParser = TrecTopics()\n",
    "# note, for some reason tags have to be in lower_case for this to work. seems to be due to beautifulsoup\n",
    "topicsParser.read_topics_from_file(topics_path, topic_tag='top',numberid_tag='num',querytext_tag='title',number_attr=False)\n",
    "patients = topicsParser.topics.copy()"
   ]
  },
  {
   "cell_type": "code",
   "execution_count": 3,
   "id": "d2a014f2",
   "metadata": {},
   "outputs": [
    {
     "name": "stdout",
     "output_type": "stream",
     "text": [
      "There are 60 patients in our database\n"
     ]
    }
   ],
   "source": [
    "print(f'There are {len(patients)} patients in our database')"
   ]
  },
  {
   "cell_type": "markdown",
   "id": "3600e751",
   "metadata": {},
   "source": [
    "# Get qrels"
   ]
  },
  {
   "cell_type": "code",
   "execution_count": 4,
   "id": "52e86fcf",
   "metadata": {},
   "outputs": [
    {
     "data": {
      "text/html": [
       "<div>\n",
       "<style scoped>\n",
       "    .dataframe tbody tr th:only-of-type {\n",
       "        vertical-align: middle;\n",
       "    }\n",
       "\n",
       "    .dataframe tbody tr th {\n",
       "        vertical-align: top;\n",
       "    }\n",
       "\n",
       "    .dataframe thead th {\n",
       "        text-align: right;\n",
       "    }\n",
       "</style>\n",
       "<table border=\"1\" class=\"dataframe\">\n",
       "  <thead>\n",
       "    <tr style=\"text-align: right;\">\n",
       "      <th></th>\n",
       "      <th>qid</th>\n",
       "      <th>q0</th>\n",
       "      <th>docid</th>\n",
       "      <th>rel</th>\n",
       "    </tr>\n",
       "  </thead>\n",
       "  <tbody>\n",
       "    <tr>\n",
       "      <th>0</th>\n",
       "      <td>1158</td>\n",
       "      <td>0</td>\n",
       "      <td>NCT02371057</td>\n",
       "      <td>0</td>\n",
       "    </tr>\n",
       "    <tr>\n",
       "      <th>1</th>\n",
       "      <td>1158</td>\n",
       "      <td>0</td>\n",
       "      <td>NCT01102998</td>\n",
       "      <td>0</td>\n",
       "    </tr>\n",
       "    <tr>\n",
       "      <th>2</th>\n",
       "      <td>1158</td>\n",
       "      <td>0</td>\n",
       "      <td>NCT00494468</td>\n",
       "      <td>1</td>\n",
       "    </tr>\n",
       "  </tbody>\n",
       "</table>\n",
       "</div>"
      ],
      "text/plain": [
       "    qid  q0        docid  rel\n",
       "0  1158   0  NCT02371057    0\n",
       "1  1158   0  NCT01102998    0\n",
       "2  1158   0  NCT00494468    1"
      ]
     },
     "execution_count": 4,
     "metadata": {},
     "output_type": "execute_result"
    },
    {
     "data": {
      "text/plain": [
       "(3506, 4)"
      ]
     },
     "execution_count": 4,
     "metadata": {},
     "output_type": "execute_result"
    }
   ],
   "source": [
    "qrels_file = \"/nas/Datasets/csiro_ct/qrels-clinical_trials.txt\"\n",
    "qrels = TrecQrel(qrels_file)\n",
    "\n",
    "# Internally TrecTools save the objects as Pandas dataframes\n",
    "qrels = qrels.qrels_data\n",
    "# some preprocessing\n",
    "qrels = (qrels\n",
    "         .rename(columns={'query':'qid'})\n",
    "         .astype({'qid':str})\n",
    "        )\n",
    "\n",
    "# print\n",
    "qrels.head(3)\n",
    "qrels.shape"
   ]
  },
  {
   "cell_type": "markdown",
   "id": "6dd0ac3a",
   "metadata": {},
   "source": [
    "# select patients that only exist in qrels & topics"
   ]
  },
  {
   "cell_type": "code",
   "execution_count": 5,
   "id": "582ad469",
   "metadata": {},
   "outputs": [
    {
     "name": "stdout",
     "output_type": "stream",
     "text": [
      "Patients in qrels but not in topics: 4\n",
      "Patients in topics but not in qrels: 9\n"
     ]
    }
   ],
   "source": [
    "patients_in_qrels_not_topics = [e for e in qrels.qid.unique() if e not in patients.keys()]\n",
    "patients_in_topics_not_qrels = [e for e in patients.keys() if e not in qrels.qid.unique()]\n",
    "\n",
    "print(f'Patients in qrels but not in topics: {len(patients_in_qrels_not_topics)}')\n",
    "print(f'Patients in topics but not in qrels: {len(patients_in_topics_not_qrels)}')"
   ]
  },
  {
   "cell_type": "code",
   "execution_count": 6,
   "id": "9bd6fa4c",
   "metadata": {},
   "outputs": [
    {
     "name": "stdout",
     "output_type": "stream",
     "text": [
      "We have 51 common patients!\n"
     ]
    }
   ],
   "source": [
    "common_patients = [e for e in qrels.qid.unique() if e in patients.keys()]\n",
    "\n",
    "patients = {p:patients[p] for p in common_patients}\n",
    "print(f'We have {len(patients)} common patients!')"
   ]
  },
  {
   "cell_type": "code",
   "execution_count": 7,
   "id": "415265e9",
   "metadata": {},
   "outputs": [
    {
     "data": {
      "text/html": [
       "<div>\n",
       "<style scoped>\n",
       "    .dataframe tbody tr th:only-of-type {\n",
       "        vertical-align: middle;\n",
       "    }\n",
       "\n",
       "    .dataframe tbody tr th {\n",
       "        vertical-align: top;\n",
       "    }\n",
       "\n",
       "    .dataframe thead th {\n",
       "        text-align: right;\n",
       "    }\n",
       "</style>\n",
       "<table border=\"1\" class=\"dataframe\">\n",
       "  <thead>\n",
       "    <tr style=\"text-align: right;\">\n",
       "      <th></th>\n",
       "      <th>qid</th>\n",
       "      <th>q0</th>\n",
       "      <th>docid</th>\n",
       "      <th>rel</th>\n",
       "    </tr>\n",
       "  </thead>\n",
       "  <tbody>\n",
       "    <tr>\n",
       "      <th>160</th>\n",
       "      <td>20141</td>\n",
       "      <td>0</td>\n",
       "      <td>NCT00000408</td>\n",
       "      <td>0</td>\n",
       "    </tr>\n",
       "    <tr>\n",
       "      <th>161</th>\n",
       "      <td>20141</td>\n",
       "      <td>0</td>\n",
       "      <td>NCT00000492</td>\n",
       "      <td>1</td>\n",
       "    </tr>\n",
       "    <tr>\n",
       "      <th>162</th>\n",
       "      <td>20141</td>\n",
       "      <td>0</td>\n",
       "      <td>NCT00000501</td>\n",
       "      <td>0</td>\n",
       "    </tr>\n",
       "  </tbody>\n",
       "</table>\n",
       "</div>"
      ],
      "text/plain": [
       "       qid  q0        docid  rel\n",
       "160  20141   0  NCT00000408    0\n",
       "161  20141   0  NCT00000492    1\n",
       "162  20141   0  NCT00000501    0"
      ]
     },
     "execution_count": 7,
     "metadata": {},
     "output_type": "execute_result"
    },
    {
     "data": {
      "text/plain": [
       "(3346, 4)"
      ]
     },
     "execution_count": 7,
     "metadata": {},
     "output_type": "execute_result"
    }
   ],
   "source": [
    "# now do the same for qrels (only select patients that exist on both sides)\n",
    "qrels = qrels[qrels.qid.isin(common_patients)]\n",
    "qrels.head(3)\n",
    "qrels.shape"
   ]
  },
  {
   "cell_type": "markdown",
   "id": "b8e13458",
   "metadata": {},
   "source": [
    "# Save patients data"
   ]
  },
  {
   "cell_type": "code",
   "execution_count": 8,
   "id": "cf75d4f9",
   "metadata": {},
   "outputs": [
    {
     "data": {
      "text/html": [
       "<div>\n",
       "<style scoped>\n",
       "    .dataframe tbody tr th:only-of-type {\n",
       "        vertical-align: middle;\n",
       "    }\n",
       "\n",
       "    .dataframe tbody tr th {\n",
       "        vertical-align: top;\n",
       "    }\n",
       "\n",
       "    .dataframe thead th {\n",
       "        text-align: right;\n",
       "    }\n",
       "</style>\n",
       "<table border=\"1\" class=\"dataframe\">\n",
       "  <thead>\n",
       "    <tr style=\"text-align: right;\">\n",
       "      <th></th>\n",
       "      <th>description</th>\n",
       "    </tr>\n",
       "    <tr>\n",
       "      <th>patientid</th>\n",
       "      <th></th>\n",
       "    </tr>\n",
       "  </thead>\n",
       "  <tbody>\n",
       "    <tr>\n",
       "      <th>20141</th>\n",
       "      <td>A 58-year-old African-American woman presents ...</td>\n",
       "    </tr>\n",
       "    <tr>\n",
       "      <th>201410</th>\n",
       "      <td>A physician is called to see a 67-year-old wom...</td>\n",
       "    </tr>\n",
       "  </tbody>\n",
       "</table>\n",
       "</div>"
      ],
      "text/plain": [
       "                                                 description\n",
       "patientid                                                   \n",
       "20141      A 58-year-old African-American woman presents ...\n",
       "201410     A physician is called to see a 67-year-old wom..."
      ]
     },
     "execution_count": 8,
     "metadata": {},
     "output_type": "execute_result"
    },
    {
     "data": {
      "text/plain": [
       "(51, 1)"
      ]
     },
     "execution_count": 8,
     "metadata": {},
     "output_type": "execute_result"
    }
   ],
   "source": [
    "# data in format acceptable to pandas\n",
    "data = [{'patientid':e[0],'description':e[1]} for e in list(patients.items())]\n",
    "df = pd.DataFrame(data).set_index('patientid')\n",
    "df.head(2)\n",
    "df.shape\n",
    "df.to_csv('../data/patients_sample.csv')"
   ]
  },
  {
   "cell_type": "markdown",
   "id": "aa602859",
   "metadata": {},
   "source": [
    "# Save qrels data"
   ]
  },
  {
   "cell_type": "code",
   "execution_count": 9,
   "id": "1d044da3",
   "metadata": {},
   "outputs": [],
   "source": [
    "qrels.drop(columns={'q0'}).to_csv('../data/qrels_sample.csv',index=False)"
   ]
  },
  {
   "cell_type": "markdown",
   "id": "b0968f68",
   "metadata": {},
   "source": [
    "# Now onto the documents\n",
    "\n",
    "Let's read the documents that exist in the qrels file"
   ]
  },
  {
   "cell_type": "code",
   "execution_count": 10,
   "id": "d39a492f",
   "metadata": {},
   "outputs": [],
   "source": [
    "def gen_simple_doc(root : xml.etree.ElementTree.Element) -> dict:\n",
    "    \"\"\"\n",
    "    Columns that comprise a doc:\n",
    "        'id' using nct_id\n",
    "        'summary' using brief_summary\n",
    "        'gender' using eligibility.gender\n",
    "        'min_age' using eligibility.minimum_age\n",
    "        'max_age' using eligibility.maximum_age\n",
    "    \"\"\"\n",
    "    try:\n",
    "        id_ = root.find('id_info').find('nct_id').text\n",
    "        title = root.find('brief_title').text\n",
    "        summary = root.find('brief_summary')[0].text\n",
    "        gender = root.find('eligibility').find('gender').text\n",
    "        min_age = root.find('eligibility').find('minimum_age').text\n",
    "        max_age = root.find('eligibility').find('maximum_age').text\n",
    "\n",
    "        doc = {'id':id_,'title':title, 'summary':summary,'gender':gender,'min_age':min_age,'max_age':max_age}\n",
    "    except:\n",
    "        doc = None\n",
    "    return doc"
   ]
  },
  {
   "cell_type": "code",
   "execution_count": 11,
   "id": "5dc30674",
   "metadata": {},
   "outputs": [
    {
     "name": "stdout",
     "output_type": "stream",
     "text": [
      "Docs that are in qrels but not in collection: ['NCT02006251']\n"
     ]
    },
    {
     "data": {
      "text/html": [
       "<div>\n",
       "<style scoped>\n",
       "    .dataframe tbody tr th:only-of-type {\n",
       "        vertical-align: middle;\n",
       "    }\n",
       "\n",
       "    .dataframe tbody tr th {\n",
       "        vertical-align: top;\n",
       "    }\n",
       "\n",
       "    .dataframe thead th {\n",
       "        text-align: right;\n",
       "    }\n",
       "</style>\n",
       "<table border=\"1\" class=\"dataframe\">\n",
       "  <thead>\n",
       "    <tr style=\"text-align: right;\">\n",
       "      <th></th>\n",
       "      <th>id</th>\n",
       "      <th>title</th>\n",
       "      <th>summary</th>\n",
       "      <th>gender</th>\n",
       "      <th>min_age</th>\n",
       "      <th>max_age</th>\n",
       "    </tr>\n",
       "  </thead>\n",
       "  <tbody>\n",
       "    <tr>\n",
       "      <th>0</th>\n",
       "      <td>NCT00000408</td>\n",
       "      <td>Low Back Pain Patient Education Evaluation</td>\n",
       "      <td>\\n      Back pain is one of the most common of...</td>\n",
       "      <td>Both</td>\n",
       "      <td>18 Years</td>\n",
       "      <td>N/A</td>\n",
       "    </tr>\n",
       "    <tr>\n",
       "      <th>1</th>\n",
       "      <td>NCT00000492</td>\n",
       "      <td>Beta-Blocker Heart Attack Trial (BHAT)</td>\n",
       "      <td>\\n      To determine whether the regular admin...</td>\n",
       "      <td>Both</td>\n",
       "      <td>30 Years</td>\n",
       "      <td>69 Years</td>\n",
       "    </tr>\n",
       "    <tr>\n",
       "      <th>2</th>\n",
       "      <td>NCT00000501</td>\n",
       "      <td>Hypertension Prevention Trial (HPT) Feasibilit...</td>\n",
       "      <td>\\n      To test the feasibility and the effica...</td>\n",
       "      <td>Both</td>\n",
       "      <td>25 Years</td>\n",
       "      <td>49 Years</td>\n",
       "    </tr>\n",
       "  </tbody>\n",
       "</table>\n",
       "</div>"
      ],
      "text/plain": [
       "            id                                              title  \\\n",
       "0  NCT00000408         Low Back Pain Patient Education Evaluation   \n",
       "1  NCT00000492             Beta-Blocker Heart Attack Trial (BHAT)   \n",
       "2  NCT00000501  Hypertension Prevention Trial (HPT) Feasibilit...   \n",
       "\n",
       "                                             summary gender   min_age  \\\n",
       "0  \\n      Back pain is one of the most common of...   Both  18 Years   \n",
       "1  \\n      To determine whether the regular admin...   Both  30 Years   \n",
       "2  \\n      To test the feasibility and the effica...   Both  25 Years   \n",
       "\n",
       "    max_age  \n",
       "0       N/A  \n",
       "1  69 Years  \n",
       "2  49 Years  "
      ]
     },
     "execution_count": 11,
     "metadata": {},
     "output_type": "execute_result"
    },
    {
     "data": {
      "text/plain": [
       "(3170, 6)"
      ]
     },
     "execution_count": 11,
     "metadata": {},
     "output_type": "execute_result"
    }
   ],
   "source": [
    "documents = qrels.docid.unique().tolist()\n",
    "documents_dir = '/nas/Datasets/csiro_ct/clinicaltrials.gov-16_dec_2015/'\n",
    "doc_list = []\n",
    "none_list = []\n",
    "for docid in documents:\n",
    "    document_file = os.path.join(documents_dir,docid) + '.xml'\n",
    "    root = ET.parse(document_file).getroot()\n",
    "    doc = gen_simple_doc(root)\n",
    "    if doc is None:\n",
    "        none_list.append(docid)\n",
    "    else:\n",
    "        doc_list.append(doc)\n",
    "        \n",
    "print(f'Docs that are in qrels but not in collection: {none_list}')\n",
    "\n",
    "# build sample collection\n",
    "collection = pd.DataFrame(doc_list)\n",
    "collection.head(3)\n",
    "collection.shape"
   ]
  },
  {
   "cell_type": "markdown",
   "id": "f3487435",
   "metadata": {},
   "source": [
    "# Save the sample collection of documents"
   ]
  },
  {
   "cell_type": "code",
   "execution_count": 12,
   "id": "a1a003e6",
   "metadata": {},
   "outputs": [],
   "source": [
    "collection.to_csv('../data/sample_collection.csv',index=False)"
   ]
  },
  {
   "cell_type": "code",
   "execution_count": null,
   "id": "dfd34741",
   "metadata": {},
   "outputs": [],
   "source": []
  }
 ],
 "metadata": {
  "jupytext": {
   "formats": "ipynb,md"
  },
  "kernelspec": {
   "display_name": "workshop_21.6",
   "language": "python",
   "name": "workshop_21.6"
  },
  "language_info": {
   "codemirror_mode": {
    "name": "ipython",
    "version": 3
   },
   "file_extension": ".py",
   "mimetype": "text/x-python",
   "name": "python",
   "nbconvert_exporter": "python",
   "pygments_lexer": "ipython3",
   "version": "3.9.4"
  }
 },
 "nbformat": 4,
 "nbformat_minor": 5
}
